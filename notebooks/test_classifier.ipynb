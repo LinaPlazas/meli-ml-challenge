{
  "nbformat": 4,
  "nbformat_minor": 0,
  "metadata": {
    "colab": {
      "provenance": []
    },
    "kernelspec": {
      "name": "python3",
      "display_name": "Python 3"
    },
    "language_info": {
      "name": "python"
    }
  },
  "cells": [
    {
      "cell_type": "code",
      "execution_count": null,
      "metadata": {
        "id": "YSyqMbKbJ8rK"
      },
      "outputs": [],
      "source": [
        "!pip install boto3 aiohttp asyncio"
      ]
    },
    {
      "cell_type": "code",
      "source": [
        "!pip install joblib"
      ],
      "metadata": {
        "colab": {
          "base_uri": "https://localhost:8080/"
        },
        "id": "U6IUfDyiPNbs",
        "outputId": "c3afd8ef-9bc8-4786-d460-62157cb2f189"
      },
      "execution_count": null,
      "outputs": [
        {
          "output_type": "stream",
          "name": "stdout",
          "text": [
            "Requirement already satisfied: joblib in /usr/local/lib/python3.11/dist-packages (1.5.0)\n"
          ]
        }
      ]
    },
    {
      "cell_type": "code",
      "source": [
        "import asyncio\n",
        "from concurrent.futures import ThreadPoolExecutor\n",
        "import pandas as pd\n",
        "import time\n",
        "from getpass import getpass\n",
        "import asyncio\n",
        "import aiohttp\n",
        "import boto3\n",
        "import time\n",
        "from concurrent.futures import ThreadPoolExecutor\n",
        "import joblib"
      ],
      "metadata": {
        "id": "D8pknEoAKDxQ"
      },
      "execution_count": null,
      "outputs": []
    },
    {
      "cell_type": "code",
      "source": [
        "aws_access_key_id = getpass(\"Access Key: \")\n",
        "aws_secret_access_key = getpass(\"Secret Key: \")\n",
        "\n",
        "session = boto3.Session(\n",
        "    aws_access_key_id=aws_access_key_id,\n",
        "    aws_secret_access_key=aws_secret_access_key,\n",
        "    region_name=\"us-east-2\"\n",
        ")\n",
        "s3 = session.client(\"s3\")\n",
        "textract = session.client(\"textract\")"
      ],
      "metadata": {
        "colab": {
          "base_uri": "https://localhost:8080/"
        },
        "id": "7qo-FKJNKGg_",
        "outputId": "e7a36083-d4c5-4d32-9406-cab56f72fb92"
      },
      "execution_count": null,
      "outputs": [
        {
          "name": "stdout",
          "output_type": "stream",
          "text": [
            "Access Key: ··········\n",
            "Secret Key: ··········\n"
          ]
        }
      ]
    },
    {
      "cell_type": "code",
      "source": [
        "def list_pdf_files(bucket_name):\n",
        "    paginator = s3.get_paginator('list_objects_v2')\n",
        "    operation_parameters = {\n",
        "        'Bucket': bucket_name,\n",
        "        'Prefix': 'test/'\n",
        "    }\n",
        "    page_iterator = paginator.paginate(**operation_parameters)\n",
        "\n",
        "    pdf_files = []\n",
        "    for page in page_iterator:\n",
        "        for obj in page.get('Contents', []):\n",
        "            key = obj['Key']\n",
        "            if key.endswith('.pdf'):\n",
        "                pdf_files.append((key))\n",
        "    return pdf_files\n",
        "\n",
        "bucket_name = \"melichallegebucket\"\n",
        "pdf_files = list_pdf_files(bucket_name)\n",
        "print(\"Cantidad de documentos encontrados:\", len(pdf_files))"
      ],
      "metadata": {
        "colab": {
          "base_uri": "https://localhost:8080/"
        },
        "id": "gVoHkQN3KKhV",
        "outputId": "5644bad3-e4b3-4de3-b90d-7a6fe5c0d285"
      },
      "execution_count": null,
      "outputs": [
        {
          "output_type": "stream",
          "name": "stdout",
          "text": [
            "Cantidad de documentos encontrados: 39\n"
          ]
        }
      ]
    },
    {
      "cell_type": "code",
      "source": [
        "async def load_pdf_and_start_textract(file_key: str, bucket_name: str):\n",
        "    if not file_key.startswith(\"test/\"):\n",
        "        return None\n",
        "\n",
        "    s3 = session.client('s3')\n",
        "    response = s3.get_object(Bucket=bucket_name, Key=file_key)\n",
        "    file_bytes = response['Body'].read()\n",
        "\n",
        "    loop = asyncio.get_event_loop()\n",
        "    job_id = await loop.run_in_executor(None, lambda: textract.start_document_text_detection(\n",
        "        DocumentLocation={'S3Object': {'Bucket': bucket_name, 'Name': file_key}}\n",
        "    )['JobId'])\n",
        "\n",
        "    return {\"job_id\": job_id, \"file_key\": file_key}"
      ],
      "metadata": {
        "id": "44EDxpuZLshm"
      },
      "execution_count": null,
      "outputs": []
    },
    {
      "cell_type": "code",
      "source": [
        "def get_textract_result(job_id):\n",
        "    while True:\n",
        "        response = textract.get_document_text_detection(JobId=job_id)\n",
        "        status = response['JobStatus']\n",
        "        if status == 'SUCCEEDED':\n",
        "            blocks = response['Blocks']\n",
        "            lines = [b[\"Text\"] for b in blocks if b[\"BlockType\"] == \"LINE\"]\n",
        "            return \" \".join(lines)\n",
        "        elif status == 'FAILED':\n",
        "            return \"\"\n",
        "        time.sleep(5)"
      ],
      "metadata": {
        "id": "HUVC_-29Lvx7"
      },
      "execution_count": null,
      "outputs": []
    },
    {
      "cell_type": "code",
      "source": [
        "async def process_all_files(file_list, bucket_name):\n",
        "    loop = asyncio.get_event_loop()\n",
        "    with ThreadPoolExecutor(max_workers=5) as executor:\n",
        "        futures = [\n",
        "            load_pdf_and_start_textract(file_key, bucket_name)\n",
        "            for file_key in file_list\n",
        "        ]\n",
        "        jobs = await asyncio.gather(*futures)\n",
        "\n",
        "        results = []\n",
        "        for job in jobs:\n",
        "            text = await loop.run_in_executor(executor, get_textract_result, job['job_id'])\n",
        "            results.append({\n",
        "                \"filename\": job[\"file_key\"],\n",
        "                \"text\": text\n",
        "            })\n",
        "        return results"
      ],
      "metadata": {
        "id": "oQHz_AeUMoe_"
      },
      "execution_count": null,
      "outputs": []
    },
    {
      "cell_type": "code",
      "source": [
        "def save_results_to_csv(results, filename=\"extract_text_test.csv\"):\n",
        "    df = pd.DataFrame(results)\n",
        "    df.to_csv(filename, index=False)\n",
        "    print(\"CSV guardado como\", filename)"
      ],
      "metadata": {
        "id": "5j1u_mUZMpby"
      },
      "execution_count": null,
      "outputs": []
    },
    {
      "cell_type": "code",
      "source": [
        "results = await process_all_files(pdf_files, bucket_name)"
      ],
      "metadata": {
        "id": "cCt3gapSM_4A"
      },
      "execution_count": null,
      "outputs": []
    },
    {
      "cell_type": "code",
      "source": [
        "results_df = pd.DataFrame(results)"
      ],
      "metadata": {
        "id": "VUVK6t8eNz7B"
      },
      "execution_count": null,
      "outputs": []
    },
    {
      "cell_type": "code",
      "source": [
        "results_df"
      ],
      "metadata": {
        "colab": {
          "base_uri": "https://localhost:8080/",
          "height": 1000
        },
        "id": "46cv673HON4B",
        "outputId": "ab03324d-9d00-493e-8f7b-5b497f403db5"
      },
      "execution_count": null,
      "outputs": [
        {
          "output_type": "execute_result",
          "data": {
            "text/plain": [
              "                  filename                                               text\n",
              "0    test/certificado1.pdf  E.P.S.Sanitas Sanitas Internacional CERTIFICAD...\n",
              "1   test/certificado10.pdf  VIGILADO SUPERINTENDENCIA FINANCIERA EMPRESA I...\n",
              "2    test/certificado2.pdf  CERTIFICADO DE ANTECEDENTES PIB 09:55:21 PROCU...\n",
              "3    test/certificado3.pdf  Personería de Bogotá, D.C. CERTIFICADO ORDINAR...\n",
              "4    test/certificado4.pdf  CONTRALORÍA GENERAL DE LA REPUBLICA LA CONTRAL...\n",
              "5    test/certificado5.pdf  Consejo Profesional Nacional de Ingenierías El...\n",
              "6    test/certificado6.pdf  COLOMBIA POTENCIA DE LA VIDA 9 Colpensiones LA...\n",
              "7    test/certificado7.pdf  COLOMBIA POTENCIA DE LA TIC VIDA MINISTERIO DE...\n",
              "8    test/certificado8.pdf  Certificación Bancaria Domingo, 17 de marzo de...\n",
              "9    test/certificado9.pdf  Colsubsidio Con todo lo que te mereces LA CAJA...\n",
              "10      test/contrato1.pdf  NRO. SERIAL eTb LÍNEA O NÚMERO DE USUARIO INTE...\n",
              "11      test/contrato2.pdf  tecnal:a No a cualquiera le colombia confías t...\n",
              "12      test/contrato3.pdf  COLOMBIA POTENCIA DE LA Ciencias VIDA FIDUCOLD...\n",
              "13      test/contrato4.pdf  easydata From Data to Decisions contrato indiv...\n",
              "14      test/contrato5.pdf  Superservicios ANEXO CLAUSULAS CONTRACTUALES S...\n",
              "15      test/contrato6.pdf  CONTRATO INDIVIDUAL DE TRABAJO A TÉRMINO FIJO ...\n",
              "16      test/contrato7.pdf  Departamento de Casanare PRESTACION DE SERVICI...\n",
              "17      test/contrato8.pdf  Superservicios ANEXO CLAUSULAS CONTRACTUALES S...\n",
              "18      test/contrato9.pdf  El futuro Agencia de Renovación es de todos de...\n",
              "19       test/factura1.pdf  Isabel Gonzalez Factura NÚMERO DE PARA 0029 Is...\n",
              "20      test/factura10.pdf  Factura Electrónica de Venta PROCAFE Nro. Doc....\n",
              "21       test/factura2.pdf  Por favor dobla y rasga para abrir la factura ...\n",
              "22       test/factura3.pdf  Por favor dobla y rasga para abrir la factura ...\n",
              "23       test/factura4.pdf  Factura Electrónica de Venta No. M6011628 COL ...\n",
              "24       test/factura5.pdf  Lovisa FACTURA ELECTRÓNICA DE VENTA AJ024355 F...\n",
              "25       test/factura6.pdf  TRADUCTORES.CO SAS traductores NIT: 900.755.11...\n",
              "26       test/factura7.pdf  Belier Factura Electrónica De Venta No E 33904...\n",
              "27       test/factura8.pdf  CUFE: 6bb734753072daa7fb5e7e60ccd6034c770b0ced...\n",
              "28       test/factura9.pdf  NALSANI S.A.S Página 1 de 1 NIT 800.020.706-9 ...\n",
              "29    test/resolucion1.pdf  PIDIN REPUBLICA DE COLONBIA MINISTERIO DE EDUC...\n",
              "30   test/resolucion10.pdf  COLOMBIA POTENCIA DE LA Ambiente VIDA MINISTER...\n",
              "31    test/resolucion2.pdf  REPUBLICA DE COLOMBIA Libertad Orden MINISTERI...\n",
              "32    test/resolucion3.pdf  DIAN RESOLUCIÓN NÚMERO 00783 (09 de Mayo de 20...\n",
              "33    test/resolucion4.pdf  DIAN No. 460 Fecha: 2025-04-29 RESOLUCIÓN No. ...\n",
              "34    test/resolucion5.pdf  REPUBLICA DE COLOMBIA MINISTERIO DE SALUD Y PR...\n",
              "35    test/resolucion6.pdf  REPUBLICA DE COLOMBIA MINISTERIO DE SALUD Y PR...\n",
              "36    test/resolucion7.pdf  Agencia Nacional de Seguridad Vial RESOLUCIÓN ...\n",
              "37    test/resolucion8.pdf  Agencia Nacional de Seguridad Vial RESOLUCIÓN ...\n",
              "38    test/resolucion9.pdf  Ambiente RESOLUCIÓN NÚMERO 1832 23 DIC 2024 DE..."
            ],
            "text/html": [
              "\n",
              "  <div id=\"df-4c55fc07-207b-4d82-8929-405972eaecb2\" class=\"colab-df-container\">\n",
              "    <div>\n",
              "<style scoped>\n",
              "    .dataframe tbody tr th:only-of-type {\n",
              "        vertical-align: middle;\n",
              "    }\n",
              "\n",
              "    .dataframe tbody tr th {\n",
              "        vertical-align: top;\n",
              "    }\n",
              "\n",
              "    .dataframe thead th {\n",
              "        text-align: right;\n",
              "    }\n",
              "</style>\n",
              "<table border=\"1\" class=\"dataframe\">\n",
              "  <thead>\n",
              "    <tr style=\"text-align: right;\">\n",
              "      <th></th>\n",
              "      <th>filename</th>\n",
              "      <th>text</th>\n",
              "    </tr>\n",
              "  </thead>\n",
              "  <tbody>\n",
              "    <tr>\n",
              "      <th>0</th>\n",
              "      <td>test/certificado1.pdf</td>\n",
              "      <td>E.P.S.Sanitas Sanitas Internacional CERTIFICAD...</td>\n",
              "    </tr>\n",
              "    <tr>\n",
              "      <th>1</th>\n",
              "      <td>test/certificado10.pdf</td>\n",
              "      <td>VIGILADO SUPERINTENDENCIA FINANCIERA EMPRESA I...</td>\n",
              "    </tr>\n",
              "    <tr>\n",
              "      <th>2</th>\n",
              "      <td>test/certificado2.pdf</td>\n",
              "      <td>CERTIFICADO DE ANTECEDENTES PIB 09:55:21 PROCU...</td>\n",
              "    </tr>\n",
              "    <tr>\n",
              "      <th>3</th>\n",
              "      <td>test/certificado3.pdf</td>\n",
              "      <td>Personería de Bogotá, D.C. CERTIFICADO ORDINAR...</td>\n",
              "    </tr>\n",
              "    <tr>\n",
              "      <th>4</th>\n",
              "      <td>test/certificado4.pdf</td>\n",
              "      <td>CONTRALORÍA GENERAL DE LA REPUBLICA LA CONTRAL...</td>\n",
              "    </tr>\n",
              "    <tr>\n",
              "      <th>5</th>\n",
              "      <td>test/certificado5.pdf</td>\n",
              "      <td>Consejo Profesional Nacional de Ingenierías El...</td>\n",
              "    </tr>\n",
              "    <tr>\n",
              "      <th>6</th>\n",
              "      <td>test/certificado6.pdf</td>\n",
              "      <td>COLOMBIA POTENCIA DE LA VIDA 9 Colpensiones LA...</td>\n",
              "    </tr>\n",
              "    <tr>\n",
              "      <th>7</th>\n",
              "      <td>test/certificado7.pdf</td>\n",
              "      <td>COLOMBIA POTENCIA DE LA TIC VIDA MINISTERIO DE...</td>\n",
              "    </tr>\n",
              "    <tr>\n",
              "      <th>8</th>\n",
              "      <td>test/certificado8.pdf</td>\n",
              "      <td>Certificación Bancaria Domingo, 17 de marzo de...</td>\n",
              "    </tr>\n",
              "    <tr>\n",
              "      <th>9</th>\n",
              "      <td>test/certificado9.pdf</td>\n",
              "      <td>Colsubsidio Con todo lo que te mereces LA CAJA...</td>\n",
              "    </tr>\n",
              "    <tr>\n",
              "      <th>10</th>\n",
              "      <td>test/contrato1.pdf</td>\n",
              "      <td>NRO. SERIAL eTb LÍNEA O NÚMERO DE USUARIO INTE...</td>\n",
              "    </tr>\n",
              "    <tr>\n",
              "      <th>11</th>\n",
              "      <td>test/contrato2.pdf</td>\n",
              "      <td>tecnal:a No a cualquiera le colombia confías t...</td>\n",
              "    </tr>\n",
              "    <tr>\n",
              "      <th>12</th>\n",
              "      <td>test/contrato3.pdf</td>\n",
              "      <td>COLOMBIA POTENCIA DE LA Ciencias VIDA FIDUCOLD...</td>\n",
              "    </tr>\n",
              "    <tr>\n",
              "      <th>13</th>\n",
              "      <td>test/contrato4.pdf</td>\n",
              "      <td>easydata From Data to Decisions contrato indiv...</td>\n",
              "    </tr>\n",
              "    <tr>\n",
              "      <th>14</th>\n",
              "      <td>test/contrato5.pdf</td>\n",
              "      <td>Superservicios ANEXO CLAUSULAS CONTRACTUALES S...</td>\n",
              "    </tr>\n",
              "    <tr>\n",
              "      <th>15</th>\n",
              "      <td>test/contrato6.pdf</td>\n",
              "      <td>CONTRATO INDIVIDUAL DE TRABAJO A TÉRMINO FIJO ...</td>\n",
              "    </tr>\n",
              "    <tr>\n",
              "      <th>16</th>\n",
              "      <td>test/contrato7.pdf</td>\n",
              "      <td>Departamento de Casanare PRESTACION DE SERVICI...</td>\n",
              "    </tr>\n",
              "    <tr>\n",
              "      <th>17</th>\n",
              "      <td>test/contrato8.pdf</td>\n",
              "      <td>Superservicios ANEXO CLAUSULAS CONTRACTUALES S...</td>\n",
              "    </tr>\n",
              "    <tr>\n",
              "      <th>18</th>\n",
              "      <td>test/contrato9.pdf</td>\n",
              "      <td>El futuro Agencia de Renovación es de todos de...</td>\n",
              "    </tr>\n",
              "    <tr>\n",
              "      <th>19</th>\n",
              "      <td>test/factura1.pdf</td>\n",
              "      <td>Isabel Gonzalez Factura NÚMERO DE PARA 0029 Is...</td>\n",
              "    </tr>\n",
              "    <tr>\n",
              "      <th>20</th>\n",
              "      <td>test/factura10.pdf</td>\n",
              "      <td>Factura Electrónica de Venta PROCAFE Nro. Doc....</td>\n",
              "    </tr>\n",
              "    <tr>\n",
              "      <th>21</th>\n",
              "      <td>test/factura2.pdf</td>\n",
              "      <td>Por favor dobla y rasga para abrir la factura ...</td>\n",
              "    </tr>\n",
              "    <tr>\n",
              "      <th>22</th>\n",
              "      <td>test/factura3.pdf</td>\n",
              "      <td>Por favor dobla y rasga para abrir la factura ...</td>\n",
              "    </tr>\n",
              "    <tr>\n",
              "      <th>23</th>\n",
              "      <td>test/factura4.pdf</td>\n",
              "      <td>Factura Electrónica de Venta No. M6011628 COL ...</td>\n",
              "    </tr>\n",
              "    <tr>\n",
              "      <th>24</th>\n",
              "      <td>test/factura5.pdf</td>\n",
              "      <td>Lovisa FACTURA ELECTRÓNICA DE VENTA AJ024355 F...</td>\n",
              "    </tr>\n",
              "    <tr>\n",
              "      <th>25</th>\n",
              "      <td>test/factura6.pdf</td>\n",
              "      <td>TRADUCTORES.CO SAS traductores NIT: 900.755.11...</td>\n",
              "    </tr>\n",
              "    <tr>\n",
              "      <th>26</th>\n",
              "      <td>test/factura7.pdf</td>\n",
              "      <td>Belier Factura Electrónica De Venta No E 33904...</td>\n",
              "    </tr>\n",
              "    <tr>\n",
              "      <th>27</th>\n",
              "      <td>test/factura8.pdf</td>\n",
              "      <td>CUFE: 6bb734753072daa7fb5e7e60ccd6034c770b0ced...</td>\n",
              "    </tr>\n",
              "    <tr>\n",
              "      <th>28</th>\n",
              "      <td>test/factura9.pdf</td>\n",
              "      <td>NALSANI S.A.S Página 1 de 1 NIT 800.020.706-9 ...</td>\n",
              "    </tr>\n",
              "    <tr>\n",
              "      <th>29</th>\n",
              "      <td>test/resolucion1.pdf</td>\n",
              "      <td>PIDIN REPUBLICA DE COLONBIA MINISTERIO DE EDUC...</td>\n",
              "    </tr>\n",
              "    <tr>\n",
              "      <th>30</th>\n",
              "      <td>test/resolucion10.pdf</td>\n",
              "      <td>COLOMBIA POTENCIA DE LA Ambiente VIDA MINISTER...</td>\n",
              "    </tr>\n",
              "    <tr>\n",
              "      <th>31</th>\n",
              "      <td>test/resolucion2.pdf</td>\n",
              "      <td>REPUBLICA DE COLOMBIA Libertad Orden MINISTERI...</td>\n",
              "    </tr>\n",
              "    <tr>\n",
              "      <th>32</th>\n",
              "      <td>test/resolucion3.pdf</td>\n",
              "      <td>DIAN RESOLUCIÓN NÚMERO 00783 (09 de Mayo de 20...</td>\n",
              "    </tr>\n",
              "    <tr>\n",
              "      <th>33</th>\n",
              "      <td>test/resolucion4.pdf</td>\n",
              "      <td>DIAN No. 460 Fecha: 2025-04-29 RESOLUCIÓN No. ...</td>\n",
              "    </tr>\n",
              "    <tr>\n",
              "      <th>34</th>\n",
              "      <td>test/resolucion5.pdf</td>\n",
              "      <td>REPUBLICA DE COLOMBIA MINISTERIO DE SALUD Y PR...</td>\n",
              "    </tr>\n",
              "    <tr>\n",
              "      <th>35</th>\n",
              "      <td>test/resolucion6.pdf</td>\n",
              "      <td>REPUBLICA DE COLOMBIA MINISTERIO DE SALUD Y PR...</td>\n",
              "    </tr>\n",
              "    <tr>\n",
              "      <th>36</th>\n",
              "      <td>test/resolucion7.pdf</td>\n",
              "      <td>Agencia Nacional de Seguridad Vial RESOLUCIÓN ...</td>\n",
              "    </tr>\n",
              "    <tr>\n",
              "      <th>37</th>\n",
              "      <td>test/resolucion8.pdf</td>\n",
              "      <td>Agencia Nacional de Seguridad Vial RESOLUCIÓN ...</td>\n",
              "    </tr>\n",
              "    <tr>\n",
              "      <th>38</th>\n",
              "      <td>test/resolucion9.pdf</td>\n",
              "      <td>Ambiente RESOLUCIÓN NÚMERO 1832 23 DIC 2024 DE...</td>\n",
              "    </tr>\n",
              "  </tbody>\n",
              "</table>\n",
              "</div>\n",
              "    <div class=\"colab-df-buttons\">\n",
              "\n",
              "  <div class=\"colab-df-container\">\n",
              "    <button class=\"colab-df-convert\" onclick=\"convertToInteractive('df-4c55fc07-207b-4d82-8929-405972eaecb2')\"\n",
              "            title=\"Convert this dataframe to an interactive table.\"\n",
              "            style=\"display:none;\">\n",
              "\n",
              "  <svg xmlns=\"http://www.w3.org/2000/svg\" height=\"24px\" viewBox=\"0 -960 960 960\">\n",
              "    <path d=\"M120-120v-720h720v720H120Zm60-500h600v-160H180v160Zm220 220h160v-160H400v160Zm0 220h160v-160H400v160ZM180-400h160v-160H180v160Zm440 0h160v-160H620v160ZM180-180h160v-160H180v160Zm440 0h160v-160H620v160Z\"/>\n",
              "  </svg>\n",
              "    </button>\n",
              "\n",
              "  <style>\n",
              "    .colab-df-container {\n",
              "      display:flex;\n",
              "      gap: 12px;\n",
              "    }\n",
              "\n",
              "    .colab-df-convert {\n",
              "      background-color: #E8F0FE;\n",
              "      border: none;\n",
              "      border-radius: 50%;\n",
              "      cursor: pointer;\n",
              "      display: none;\n",
              "      fill: #1967D2;\n",
              "      height: 32px;\n",
              "      padding: 0 0 0 0;\n",
              "      width: 32px;\n",
              "    }\n",
              "\n",
              "    .colab-df-convert:hover {\n",
              "      background-color: #E2EBFA;\n",
              "      box-shadow: 0px 1px 2px rgba(60, 64, 67, 0.3), 0px 1px 3px 1px rgba(60, 64, 67, 0.15);\n",
              "      fill: #174EA6;\n",
              "    }\n",
              "\n",
              "    .colab-df-buttons div {\n",
              "      margin-bottom: 4px;\n",
              "    }\n",
              "\n",
              "    [theme=dark] .colab-df-convert {\n",
              "      background-color: #3B4455;\n",
              "      fill: #D2E3FC;\n",
              "    }\n",
              "\n",
              "    [theme=dark] .colab-df-convert:hover {\n",
              "      background-color: #434B5C;\n",
              "      box-shadow: 0px 1px 3px 1px rgba(0, 0, 0, 0.15);\n",
              "      filter: drop-shadow(0px 1px 2px rgba(0, 0, 0, 0.3));\n",
              "      fill: #FFFFFF;\n",
              "    }\n",
              "  </style>\n",
              "\n",
              "    <script>\n",
              "      const buttonEl =\n",
              "        document.querySelector('#df-4c55fc07-207b-4d82-8929-405972eaecb2 button.colab-df-convert');\n",
              "      buttonEl.style.display =\n",
              "        google.colab.kernel.accessAllowed ? 'block' : 'none';\n",
              "\n",
              "      async function convertToInteractive(key) {\n",
              "        const element = document.querySelector('#df-4c55fc07-207b-4d82-8929-405972eaecb2');\n",
              "        const dataTable =\n",
              "          await google.colab.kernel.invokeFunction('convertToInteractive',\n",
              "                                                    [key], {});\n",
              "        if (!dataTable) return;\n",
              "\n",
              "        const docLinkHtml = 'Like what you see? Visit the ' +\n",
              "          '<a target=\"_blank\" href=https://colab.research.google.com/notebooks/data_table.ipynb>data table notebook</a>'\n",
              "          + ' to learn more about interactive tables.';\n",
              "        element.innerHTML = '';\n",
              "        dataTable['output_type'] = 'display_data';\n",
              "        await google.colab.output.renderOutput(dataTable, element);\n",
              "        const docLink = document.createElement('div');\n",
              "        docLink.innerHTML = docLinkHtml;\n",
              "        element.appendChild(docLink);\n",
              "      }\n",
              "    </script>\n",
              "  </div>\n",
              "\n",
              "\n",
              "    <div id=\"df-d10aac8b-2164-4551-ae51-4a7a3ca13c9a\">\n",
              "      <button class=\"colab-df-quickchart\" onclick=\"quickchart('df-d10aac8b-2164-4551-ae51-4a7a3ca13c9a')\"\n",
              "                title=\"Suggest charts\"\n",
              "                style=\"display:none;\">\n",
              "\n",
              "<svg xmlns=\"http://www.w3.org/2000/svg\" height=\"24px\"viewBox=\"0 0 24 24\"\n",
              "     width=\"24px\">\n",
              "    <g>\n",
              "        <path d=\"M19 3H5c-1.1 0-2 .9-2 2v14c0 1.1.9 2 2 2h14c1.1 0 2-.9 2-2V5c0-1.1-.9-2-2-2zM9 17H7v-7h2v7zm4 0h-2V7h2v10zm4 0h-2v-4h2v4z\"/>\n",
              "    </g>\n",
              "</svg>\n",
              "      </button>\n",
              "\n",
              "<style>\n",
              "  .colab-df-quickchart {\n",
              "      --bg-color: #E8F0FE;\n",
              "      --fill-color: #1967D2;\n",
              "      --hover-bg-color: #E2EBFA;\n",
              "      --hover-fill-color: #174EA6;\n",
              "      --disabled-fill-color: #AAA;\n",
              "      --disabled-bg-color: #DDD;\n",
              "  }\n",
              "\n",
              "  [theme=dark] .colab-df-quickchart {\n",
              "      --bg-color: #3B4455;\n",
              "      --fill-color: #D2E3FC;\n",
              "      --hover-bg-color: #434B5C;\n",
              "      --hover-fill-color: #FFFFFF;\n",
              "      --disabled-bg-color: #3B4455;\n",
              "      --disabled-fill-color: #666;\n",
              "  }\n",
              "\n",
              "  .colab-df-quickchart {\n",
              "    background-color: var(--bg-color);\n",
              "    border: none;\n",
              "    border-radius: 50%;\n",
              "    cursor: pointer;\n",
              "    display: none;\n",
              "    fill: var(--fill-color);\n",
              "    height: 32px;\n",
              "    padding: 0;\n",
              "    width: 32px;\n",
              "  }\n",
              "\n",
              "  .colab-df-quickchart:hover {\n",
              "    background-color: var(--hover-bg-color);\n",
              "    box-shadow: 0 1px 2px rgba(60, 64, 67, 0.3), 0 1px 3px 1px rgba(60, 64, 67, 0.15);\n",
              "    fill: var(--button-hover-fill-color);\n",
              "  }\n",
              "\n",
              "  .colab-df-quickchart-complete:disabled,\n",
              "  .colab-df-quickchart-complete:disabled:hover {\n",
              "    background-color: var(--disabled-bg-color);\n",
              "    fill: var(--disabled-fill-color);\n",
              "    box-shadow: none;\n",
              "  }\n",
              "\n",
              "  .colab-df-spinner {\n",
              "    border: 2px solid var(--fill-color);\n",
              "    border-color: transparent;\n",
              "    border-bottom-color: var(--fill-color);\n",
              "    animation:\n",
              "      spin 1s steps(1) infinite;\n",
              "  }\n",
              "\n",
              "  @keyframes spin {\n",
              "    0% {\n",
              "      border-color: transparent;\n",
              "      border-bottom-color: var(--fill-color);\n",
              "      border-left-color: var(--fill-color);\n",
              "    }\n",
              "    20% {\n",
              "      border-color: transparent;\n",
              "      border-left-color: var(--fill-color);\n",
              "      border-top-color: var(--fill-color);\n",
              "    }\n",
              "    30% {\n",
              "      border-color: transparent;\n",
              "      border-left-color: var(--fill-color);\n",
              "      border-top-color: var(--fill-color);\n",
              "      border-right-color: var(--fill-color);\n",
              "    }\n",
              "    40% {\n",
              "      border-color: transparent;\n",
              "      border-right-color: var(--fill-color);\n",
              "      border-top-color: var(--fill-color);\n",
              "    }\n",
              "    60% {\n",
              "      border-color: transparent;\n",
              "      border-right-color: var(--fill-color);\n",
              "    }\n",
              "    80% {\n",
              "      border-color: transparent;\n",
              "      border-right-color: var(--fill-color);\n",
              "      border-bottom-color: var(--fill-color);\n",
              "    }\n",
              "    90% {\n",
              "      border-color: transparent;\n",
              "      border-bottom-color: var(--fill-color);\n",
              "    }\n",
              "  }\n",
              "</style>\n",
              "\n",
              "      <script>\n",
              "        async function quickchart(key) {\n",
              "          const quickchartButtonEl =\n",
              "            document.querySelector('#' + key + ' button');\n",
              "          quickchartButtonEl.disabled = true;  // To prevent multiple clicks.\n",
              "          quickchartButtonEl.classList.add('colab-df-spinner');\n",
              "          try {\n",
              "            const charts = await google.colab.kernel.invokeFunction(\n",
              "                'suggestCharts', [key], {});\n",
              "          } catch (error) {\n",
              "            console.error('Error during call to suggestCharts:', error);\n",
              "          }\n",
              "          quickchartButtonEl.classList.remove('colab-df-spinner');\n",
              "          quickchartButtonEl.classList.add('colab-df-quickchart-complete');\n",
              "        }\n",
              "        (() => {\n",
              "          let quickchartButtonEl =\n",
              "            document.querySelector('#df-d10aac8b-2164-4551-ae51-4a7a3ca13c9a button');\n",
              "          quickchartButtonEl.style.display =\n",
              "            google.colab.kernel.accessAllowed ? 'block' : 'none';\n",
              "        })();\n",
              "      </script>\n",
              "    </div>\n",
              "\n",
              "  <div id=\"id_b32d767c-8e37-47db-8102-644a960af351\">\n",
              "    <style>\n",
              "      .colab-df-generate {\n",
              "        background-color: #E8F0FE;\n",
              "        border: none;\n",
              "        border-radius: 50%;\n",
              "        cursor: pointer;\n",
              "        display: none;\n",
              "        fill: #1967D2;\n",
              "        height: 32px;\n",
              "        padding: 0 0 0 0;\n",
              "        width: 32px;\n",
              "      }\n",
              "\n",
              "      .colab-df-generate:hover {\n",
              "        background-color: #E2EBFA;\n",
              "        box-shadow: 0px 1px 2px rgba(60, 64, 67, 0.3), 0px 1px 3px 1px rgba(60, 64, 67, 0.15);\n",
              "        fill: #174EA6;\n",
              "      }\n",
              "\n",
              "      [theme=dark] .colab-df-generate {\n",
              "        background-color: #3B4455;\n",
              "        fill: #D2E3FC;\n",
              "      }\n",
              "\n",
              "      [theme=dark] .colab-df-generate:hover {\n",
              "        background-color: #434B5C;\n",
              "        box-shadow: 0px 1px 3px 1px rgba(0, 0, 0, 0.15);\n",
              "        filter: drop-shadow(0px 1px 2px rgba(0, 0, 0, 0.3));\n",
              "        fill: #FFFFFF;\n",
              "      }\n",
              "    </style>\n",
              "    <button class=\"colab-df-generate\" onclick=\"generateWithVariable('results_df')\"\n",
              "            title=\"Generate code using this dataframe.\"\n",
              "            style=\"display:none;\">\n",
              "\n",
              "  <svg xmlns=\"http://www.w3.org/2000/svg\" height=\"24px\"viewBox=\"0 0 24 24\"\n",
              "       width=\"24px\">\n",
              "    <path d=\"M7,19H8.4L18.45,9,17,7.55,7,17.6ZM5,21V16.75L18.45,3.32a2,2,0,0,1,2.83,0l1.4,1.43a1.91,1.91,0,0,1,.58,1.4,1.91,1.91,0,0,1-.58,1.4L9.25,21ZM18.45,9,17,7.55Zm-12,3A5.31,5.31,0,0,0,4.9,8.1,5.31,5.31,0,0,0,1,6.5,5.31,5.31,0,0,0,4.9,4.9,5.31,5.31,0,0,0,6.5,1,5.31,5.31,0,0,0,8.1,4.9,5.31,5.31,0,0,0,12,6.5,5.46,5.46,0,0,0,6.5,12Z\"/>\n",
              "  </svg>\n",
              "    </button>\n",
              "    <script>\n",
              "      (() => {\n",
              "      const buttonEl =\n",
              "        document.querySelector('#id_b32d767c-8e37-47db-8102-644a960af351 button.colab-df-generate');\n",
              "      buttonEl.style.display =\n",
              "        google.colab.kernel.accessAllowed ? 'block' : 'none';\n",
              "\n",
              "      buttonEl.onclick = () => {\n",
              "        google.colab.notebook.generateWithVariable('results_df');\n",
              "      }\n",
              "      })();\n",
              "    </script>\n",
              "  </div>\n",
              "\n",
              "    </div>\n",
              "  </div>\n"
            ],
            "application/vnd.google.colaboratory.intrinsic+json": {
              "type": "dataframe",
              "variable_name": "results_df",
              "summary": "{\n  \"name\": \"results_df\",\n  \"rows\": 39,\n  \"fields\": [\n    {\n      \"column\": \"filename\",\n      \"properties\": {\n        \"dtype\": \"string\",\n        \"num_unique_values\": 39,\n        \"samples\": [\n          \"test/resolucion4.pdf\",\n          \"test/resolucion7.pdf\",\n          \"test/certificado4.pdf\"\n        ],\n        \"semantic_type\": \"\",\n        \"description\": \"\"\n      }\n    },\n    {\n      \"column\": \"text\",\n      \"properties\": {\n        \"dtype\": \"string\",\n        \"num_unique_values\": 39,\n        \"samples\": [\n          \"DIAN No. 460 Fecha: 2025-04-29 RESOLUCI\\u00d3N No. 125000201- ( ) \\\"Por la cual se extiende la modalidad de trabajo en casa hasta el 30 de mayo de 2025\\\" EL DIRECTOR DE IMPUESTOS Y ADUANAS SECCIONAL RIOHACHA En uso de sus facultades legales, y especialmente las conferidas por la Resoluci\\u00f3n No. 0084 de 2021 y la Resoluci\\u00f3n No. 0035 de 2022, CONSIDERANDO: Que el Gobierno Nacional expidi\\u00f3 la Ley 2088 de 2021, \\\"Por la cual se regula el trabajo en casa y se dictan otras disposiciones\\\", que establece la habilitaci\\u00f3n para los servidores p\\u00fablicos de desempe\\u00f1ar sus funciones transitoriamente fuera de su lugar habitual de trabajo, cuando se presenten circunstancias excepcionales que impidan el cumplimiento normal de sus funciones en el sitio de trabajo. Que el Decreto 1662 de 2021 imparte instrucciones para la habilitaci\\u00f3n de trabajo en casa para el sector p\\u00fablico, as\\u00ed como las condiciones complementarias necesarias para garantizar los derechos laborales de los servidores p\\u00fablicos, los derechos de las entidades del Estado y los deberes de ambas partes. Que el Director General de la U.A.E.- DIRECCION DE IMPUESTOS Y ADUANAS NACIONALES DIAN, expidi\\u00f3 la Resoluci\\u00f3n No. 0035 de 15 de marzo del 2022, \\\"Por la cual se habilita el trabajo en casa, se dictan lineamientos generales para su habilitaci\\u00f3n y se delegan funciones en la U.A.E. Direcci\\u00f3n de Impuestos y Aduanas Nacionales- DIAN\\\", definiendo en el art\\u00edculo primero el objeto de la habilitaci\\u00f3n del trabajo en casa como .una forma transitoria de prestaci\\u00f3n del servicio en situaciones ocasionales, excepcionales o especiales en la U.A.E.- Direcci\\u00f3n de Impuestos y Aduanas Nacionales- DIAN Que la Resoluci\\u00f3n No. 125000201- 405 de 24 de octubre de 2024, autoriz\\u00f3 el trabajo en casa para diversas dependencias de la Direcci\\u00f3n Seccional de Impuestos y Aduanas de Riohacha debido a las condiciones excepcionales de la sede, asimismo, mediante Resoluci\\u00f3n No. 125000201- 414 de 28 de octubre de 2024, se incorpora a la Divisi\\u00f3n de la Operaci\\u00f3n Aduanera a la modalidad de trabajo en casa. Que la Resoluci\\u00f3n No. 125000201-610 de diciembre 12 de 2024 extendi\\u00f3 la modalidad de trabajo en casa hasta el 10 de enero de 2025 para diversas dependencias de la Direcci\\u00f3n Seccional de Impuestos y Aduanas de Riohacha, debido a las condiciones excepcionales de la sede Que la Resoluci\\u00f3n No. 125000201-012 de enero 9 de 2025 extendi\\u00f3 la modalidad de trabajo en casa hasta el 31 de enero de 2025 para diversas dependencias de la Direcci\\u00f3n Seccional de Impuestos y Aduanas de Riohacha, debido a las condiciones excepcionales de la sede. Que la Resoluci\\u00f3n No. 125000201-072 de enero 30 de 2025 extendi\\u00f3 la modalidad de trabajo en casa hasta el 14 de febrero de 2025 para diversas dependencias de la Direcci\\u00f3n Seccional de Impuestos y Aduanas de Riohacha, debido a las condiciones excepcionales de la sede. p\\u00e1g. 1 No. 460 Fecha: 2025-04-29 RESOLUCI\\u00d3N N\\u00daMERO 125000201- Continuaci\\u00f3n de la Resoluci\\u00f3n, \\\"Por la cual se extiende la modalidad de trabajo en casa hasta el 30 de mayo de 2025\\\" Que la Resoluci\\u00f3n No. 125000201-080 de febrero 12 de 2025 extendi\\u00f3 la modalidad de trabajo en casa hasta el 28 de febrero de 2025 para diversas dependencias de la Direcci\\u00f3n Seccional de Impuestos y Aduanas de Riohacha, debido a las condiciones excepcionales de la sede. Que la Resoluci\\u00f3n No. 125000201-121 de febrero 27 de 2025 extendi\\u00f3 la modalidad de trabajo en casa hasta el 14 de marzo de 2025 para diversas dependencias de la Direcci\\u00f3n Seccional de Impuestos y Aduanas de Riohacha, debido a las condiciones excepcionales de la sede. Que la Resoluci\\u00f3n No. 125000201-144 de marzo 13 de 2025 extendi\\u00f3 la modalidad de trabajo en casa hasta el 31 de marzo de 2025 para diversas dependencias de la Direcci\\u00f3n Seccional de Impuestos y Aduanas de Riohacha, debido a las condiciones excepcionales de la sede. Que la Resoluci\\u00f3n No. 125000201-330 de marzo 28 de 2025 extendi\\u00f3 la modalidad de trabajo en casa hasta el 11 de abril de 2025 para diversas dependencias de la Direcci\\u00f3n Seccional de Impuestos y Aduanas de Riohacha, debido a las condiciones excepcionales de la sede. Que la Resoluci\\u00f3n No. 125000201-364 de abril 11 de 2025 extendi\\u00f3 la modalidad de trabajo en casa hasta el 30 de abril de 2025 para diversas dependencias de la Direcci\\u00f3n Seccional de Impuestos y Aduanas de Riohacha, debido a las condiciones excepcionales de la sede. Que, a la fecha, la sede de la Direcci\\u00f3n Seccional de Impuestos y Aduanas de Riohacha contin\\u00faa requiriendo adecuaci\\u00f3n y remodelaci\\u00f3n de sus instalaciones, lo que afecta el normal funcionamiento de diversas dependencias. Esto genera una situaci\\u00f3n excepcional que podr\\u00eda poner en riesgo la integridad f\\u00edsica de los servidores de la seccional, adem\\u00e1s de la indisponibilidad de los elementos de trabajo, tales como muebles y conectividad, necesarios para el normal desarrollo de sus funciones. Que, en virtud de lo expuesto, se considera necesario extender la modalidad de trabajo en casa debido a la continuaci\\u00f3n de la remodelaci\\u00f3n de las instalaciones, afectando el normal funcionamiento de varias divisiones y la disponibilidad de los elementos de trabajo. Que en m\\u00e9rito de lo expuesto el Director Seccional de Impuestos y Aduana de Riohacha, RESUELVE: ART\\u00cdCULO PRIMERO. Ampliaci\\u00f3n de la modalidad de trabajo en casa. Se extiende la modalidad de trabajo en casa para los servidores p\\u00fablicos de las siguientes dependencias de la Direcci\\u00f3n Seccional de Impuestos y Aduanas de Riohacha: Divisi\\u00f3n de Fiscalizaci\\u00f3n y Liquidaci\\u00f3n Tributaria Extensiva Divisi\\u00f3n Jur\\u00eddica Control Operativo Despacho Divisi\\u00f3n de Fiscalizaci\\u00f3n y Liquidaci\\u00f3n Tributaria Intensiva Divisi\\u00f3n de Fiscalizaci\\u00f3n y Liquidaci\\u00f3n Aduanera y Cambiaria Divisi\\u00f3n de Recaudo y Cobranza Grupo Interno de Trabajo de Gesti\\u00f3n de Cobranzas Divisi\\u00f3n de la Operaci\\u00f3n Aduanera. ART\\u00cdCULO SEGUNDO. Duraci\\u00f3n de la ampliaci\\u00f3n. El trabajo en casa ser\\u00e1 autorizado hasta el 30 de mayo de 2025, de acuerdo con las condiciones excepcionales que afectan el funcionamiento de las instalaciones de la entidad. Vencido el plazo aqu\\u00ed mencionado, los servidores p\\u00fablicos deber\\u00e1n retornar a su puesto de trabajo en la sede de la entidad. p\\u00e1g. 2\",\n          \"Agencia Nacional de Seguridad Vial RESOLUCI\\u00d3N 527 DE 2025 (30 DE ABRIL DE 2025) \\\"Por medio de la cual se modifica el Manual Unificado de Contrataci\\u00f3n de la Agencia Nacional de Seguridad Vial\\\" LA DIRECTORA GENERAL DE LA AGENCIA NACIONAL DE SEGURIDAD VIAL - ANSV En ejercicio de las facultades constitucionales y legales, en especial las conferidas por el art\\u00edculo 209 de la Constituci\\u00f3n Pol\\u00edtica; los art\\u00edculos 3, 11 y 23 de la Ley 80 de 1993; el art\\u00edculo 110 del Decreto 111 de 1996; la Ley 1702 de 2013; los numerales 33 y 38 del art\\u00edculo 4 del Decreto 787 de 2015; as\\u00ed como el Decreto 1207 de 2023, y, CONSIDERANDO: Que el art\\u00edculo 209 de la Constituci\\u00f3n Pol\\u00edtica Nacional establece que: \\\"La funci\\u00f3n administrativa est\\u00e1 al servicio de los intereses generales y se desarrolla con fundamento en los principios de igualdad, moralidad, eficacia, econom\\u00eda, celeridad, imparcialidad y publicidad, mediante la descentralizaci\\u00f3n, la delegaci\\u00f3n y la desconcentraci\\u00f3n de funciones.\\\" As\\u00ed mismo, en el inciso segundo ibidem dispone que \\\"Las autoridades administrativas deben coordinar sus actuaciones para el adecuado cumplimiento de los fines del Estado (...)\\\". Que el art\\u00edculo 3\\u00b0 de la Ley 80 de 1993, se\\u00f1ala: \\\"Los servidores p\\u00fablicos tendr\\u00e1n en consideraci\\u00f3n que al celebrar contratos y con la ejecuci\\u00f3n de los mismos, las entidades buscan el cumplimiento de los fines estatales, la continua y eficiente prestaci\\u00f3n de los servicios p\\u00fablicos y la efectividad de los derechos e intereses de los administrados que colaboran con ellas en la consecuci\\u00f3n de dichos fines. (...)\\\". Que el art\\u00edculo 11 de la Ley 80 de 1993, establece que la competencia para suscribir contratos ser\\u00e1 del jefe o representante legal de la entidad, en virtud de dicha norma, la facultad de ordenaci\\u00f3n del gasto en materia contractual se encuentra en cabeza del Director General de la Agencia Nacional de Seguridad Vial. Que de acuerdo con lo dispuesto en el art\\u00edculo 23 de la Ley 80 de 1993 y art\\u00edculo 13 de la Ley 1150 de 2007, las actuaciones de los servidores p\\u00fablicos que intervengan en la contrataci\\u00f3n deben desarrollarse con sujeci\\u00f3n a los principios de transparencia, econom\\u00eda, responsabilidad, los principios de la funci\\u00f3n administrativa y de la gesti\\u00f3n fiscal, buscando el cumplimiento de los fines estatales, la eficiente y continua prestaci\\u00f3n de los servicios p\\u00fablicos y la efectividad de los derechos y deberes de la administraci\\u00f3n. Agencia Nacional de Seguridad Vial Direcci\\u00f3n: Av. La Esperanza - Calle 24 N\\u00b0 60-50, Bogot\\u00e1 Complejo Empresarial Gran Estaci\\u00f3n 2, piso 9 Conmutador: (+57) 601 739 9080 P\\u00e1gina 1 de 4 Agencia Nacional de Seguridad Vial RESOLUCI\\u00d3N 527 DEL 30 DE ABRIL DE 2025 - HOJA No. 2 \\\"Por medio de la cual se modifica el Manual Unificado de Contrataci\\u00f3n de la Agencia Nacional de Seguridad Vial\\\" Que, de otra parte, la Agencia Nacional de Seguridad Vial fue creada por la Ley 1702 de 2013, la cual en su art\\u00edculo 7\\u00b0, se\\u00f1al\\u00f3 lo siguiente: \\\"Cr\\u00e9ase el Fondo Nacional de Seguridad Vial como una cuenta especial de la Naci\\u00f3n Agencia Nacional de Seguridad Vial, sin personer\\u00eda jur\\u00eddica, ni estructura administrativa, con independencia patrimonial, administrativa, contable y estad\\u00edstica para financiar el funcionamiento e inversi\\u00f3n de la Agencia Nacional de Seguridad Vial, el cual sustituye al Fondo de Prevenci\\u00f3n Vial creado por el art\\u00edculo 244 de la Ley 100 de 1993, cuya liquidaci\\u00f3n se ordena con arreglo a la presente ley. El Fondo Nacional de Seguridad Vial se integrar\\u00e1 con los recursos correspondientes al tres por ciento (3%) de las primas que recauden las compa\\u00f1\\u00edas aseguradoras que operan el seguro obligatorio de da\\u00f1os corporales causados a las personas en accidentes de tr\\u00e1nsito SOAT. El Fondo Nacional de Seguridad Vial funcionar\\u00e1 bajo la dependencia, orientaci\\u00f3n y coordinaci\\u00f3n de la Agencia Nacional de Seguridad Vial, la que \\u00fanicamente podr\\u00e1 destinar hasta una tercera parte de los recursos del Fondo para sus gastos de funcionamiento. El Director General de la Agencia Nacional de Seguridad Vial ser\\u00e1 el ordenador del gasto de los recursos del Fondo Nacional de Seguridad Vial.\\\" Que, con el fin de facilitar un control eficiente y eficaz en la ejecuci\\u00f3n de los contratos, es necesario establecer de manera clara y precisa una serie de pautas que deben ser observadas por los servidores p\\u00fablicos y contratistas involucrados en las distintas etapas contractuales, as\\u00ed como definir las obligaciones y responsabilidades de los interventores y supervisores, sin perjuicio de lo dispuesto en la Constituci\\u00f3n Pol\\u00edtica, la ley, el reglamento o el contrato de interventor\\u00eda. En cumplimiento de lo dispuesto en el art\\u00edculo 2.2.1.2.5.3 del Decreto 1082 de 2015, que establece la obligaci\\u00f3n de las entidades sujetas al Estatuto General de Contrataci\\u00f3n de contar con un manual de contrataci\\u00f3n, la Agencia Nacional de Seguridad Vial expidi\\u00f3 la Resoluci\\u00f3n No. 482 del 19 de julio de 2022, mediante la cual se adopt\\u00f3 el Manual Unificado de Contrataci\\u00f3n. Dicho manual ha sido objeto de tres actualizaciones posteriores, con el fin de adecuar su contenido a las din\\u00e1micas institucionales y a la normativa vigente Que la Agencia Nacional de Seguridad Vial requiere modificar el Manual Unificado de Contrataci\\u00f3n, con el fin de avanzar en el cumplimiento de sus objetivos misionales y promover una mayor eficiencia administrativa en el desarrollo de sus funciones en un contexto y prop\\u00f3sito de mejora continua. Que, en m\\u00e9rito de lo expuesto, Agencia Nacional de Seguridad Vial Direcci\\u00f3n: Av. La Esperanza - Calle 24 N\\u00b0 60-50, Bogot\\u00e1 Complejo Empresarial Gran Estaci\\u00f3n 2, piso 9 Conmutador: (+57) 601 739 9080 P\\u00e1gina 2 de 4\",\n          \"CONTRALOR\\u00cdA GENERAL DE LA REPUBLICA LA CONTRALOR\\u00cdA DELEGADA PARA RESPONSABILIDAD FISCAL, , INTERVENCI\\u00d3N JUDICIAL Y COBRO COACTIVO CERTIFICA: Que una vez consultado el Sistema de Informaci\\u00f3n del Bolet\\u00edn de Responsables Fiscales 'SIBOR', hoy mi\\u00e9rcoles 30 de octubre de 2024, a las 10:08:20, el n\\u00famero de identificaci\\u00f3n, relacionado a continuaci\\u00f3n, NO SE ENCUENTRA REPORTADO COMO RESPONSABLE FISCAL. Tipo Documento C\\u00e9dula de Ciudadan\\u00eda No. Identificaci\\u00f3n 1026301667 C\\u00f3digo de Verificaci\\u00f3n 1026301667241030100820 Esta Certificaci\\u00f3n es v\\u00e1lida en todo el Territorio Nacional, siempre y cuando el tipo y n\\u00famero consignados en el respectivo documento de identificaci\\u00f3n, coincidan con los aqu\\u00ed registrados. De conformidad con el Decreto 2150 de 1995 y la Resoluci\\u00f3n 220 del 5 de octubre de 2004, la firma mec\\u00e1nica aqu\\u00ed plasmada tiene plena validez para todos los efectos legales. HERN\\u00c1N GUILLERMO JOJOA SANTACRUZ Contralor Delegado Gener\\u00f3: WEB CGR= Con el C\\u00f3digo de Verificaci\\u00f3n puede constatar la autenticidad del Certificado. Carrera 69 No. 44-35 Piso 1. C\\u00f3digo Postal 111071. PBX 5187000 - Bogot\\u00e1 D.C P\\u00e1gina 1 de 1 Colombia Contralor\\u00eda General NC, BOGOT\\u00c1, D.C.\"\n        ],\n        \"semantic_type\": \"\",\n        \"description\": \"\"\n      }\n    }\n  ]\n}"
            }
          },
          "metadata": {},
          "execution_count": 28
        }
      ]
    },
    {
      "cell_type": "code",
      "source": [
        "import pandas as pd\n",
        "import re\n",
        "import nltk\n",
        "from nltk.corpus import stopwords\n",
        "from sklearn.model_selection import train_test_split\n",
        "from sklearn.pipeline import Pipeline\n",
        "from sklearn.feature_extraction.text import TfidfVectorizer\n",
        "from sklearn.linear_model import LogisticRegression\n",
        "from sklearn.svm import LinearSVC\n",
        "from xgboost import XGBClassifier\n",
        "from sklearn.naive_bayes import MultinomialNB\n",
        "from sklearn.ensemble import RandomForestClassifier\n",
        "from sklearn.metrics import confusion_matrix\n",
        "import seaborn as sns\n",
        "import matplotlib.pyplot as plt\n",
        "import joblib\n",
        "import numpy as np\n",
        "from sklearn.metrics import (\n",
        "    accuracy_score, precision_score, recall_score, f1_score,\n",
        "    classification_report, confusion_matrix\n",
        ")"
      ],
      "metadata": {
        "id": "jIOt1-4sOZnP"
      },
      "execution_count": null,
      "outputs": []
    },
    {
      "cell_type": "code",
      "source": [
        "results_df = pd.read_csv(\"resultados.csv\")"
      ],
      "metadata": {
        "id": "WCLZFTw6otO2"
      },
      "execution_count": null,
      "outputs": []
    },
    {
      "cell_type": "code",
      "source": [
        "from nltk.corpus import stopwords\n",
        "from nltk.stem.snowball import SnowballStemmer\n",
        "from nltk.tokenize import RegexpTokenizer"
      ],
      "metadata": {
        "id": "5X2Wa2dFV7HP"
      },
      "execution_count": null,
      "outputs": []
    },
    {
      "cell_type": "code",
      "source": [
        "modelos = [\n",
        "    \"logistic regression\",\n",
        "    \"linear svm\",\n",
        "    \"random forest\",\n",
        "    \"multinomial nb\",\n",
        "]"
      ],
      "metadata": {
        "id": "OTNpUlDJPi_V"
      },
      "execution_count": null,
      "outputs": []
    },
    {
      "cell_type": "code",
      "source": [
        "nltk.download('stopwords')"
      ],
      "metadata": {
        "colab": {
          "base_uri": "https://localhost:8080/"
        },
        "id": "JtfhZqHTV_hb",
        "outputId": "a79e6f47-4001-4c7f-8a4c-abf50ccfd8b7"
      },
      "execution_count": null,
      "outputs": [
        {
          "output_type": "stream",
          "name": "stderr",
          "text": [
            "[nltk_data] Downloading package stopwords to /root/nltk_data...\n",
            "[nltk_data]   Package stopwords is already up-to-date!\n"
          ]
        },
        {
          "output_type": "execute_result",
          "data": {
            "text/plain": [
              "True"
            ]
          },
          "metadata": {},
          "execution_count": 76
        }
      ]
    },
    {
      "cell_type": "code",
      "source": [
        "stop_words = set(stopwords.words(\"spanish\"))\n",
        "stemmer = SnowballStemmer(\"spanish\")\n",
        "tokenizer = RegexpTokenizer(r'\\b\\w+\\b')"
      ],
      "metadata": {
        "id": "86wMEi2eWAQ8"
      },
      "execution_count": null,
      "outputs": []
    },
    {
      "cell_type": "code",
      "source": [
        "def limpiar_texto(texto):\n",
        "    texto = texto.lower()\n",
        "    texto = re.sub(r\"\\s+\", \" \", texto).strip()\n",
        "    tokens = tokenizer.tokenize(texto)\n",
        "    tokens = [stemmer.stem(palabra) for palabra in tokens if palabra not in stop_words]\n",
        "    return \" \".join(tokens)"
      ],
      "metadata": {
        "id": "HSMInErvWCdO"
      },
      "execution_count": null,
      "outputs": []
    },
    {
      "cell_type": "code",
      "source": [
        "results_df[\"text\"] = results_df[\"text\"].apply(limpiar_texto)"
      ],
      "metadata": {
        "id": "gN2bNrYKWFkn"
      },
      "execution_count": null,
      "outputs": []
    },
    {
      "cell_type": "code",
      "source": [
        "def extraer_categoria(filename):\n",
        "    nombre = filename.split(\"/\")[1]\n",
        "    base = re.findall(r\"[a-zA-Z]+\", nombre)[0].lower()\n",
        "    if base == \"resolucion\":\n",
        "        return \"resoluciones\"\n",
        "    else:\n",
        "        return base + \"s\"\n"
      ],
      "metadata": {
        "id": "Iyb9gSfCYF2Z"
      },
      "execution_count": null,
      "outputs": []
    },
    {
      "cell_type": "code",
      "source": [
        "results_df[\"categoria_real\"] = results_df[\"filename\"].apply(extraer_categoria)"
      ],
      "metadata": {
        "id": "K_InC5IUYVX7"
      },
      "execution_count": null,
      "outputs": []
    },
    {
      "cell_type": "code",
      "source": [
        "for nombre in modelos:\n",
        "    modelo_path = f\"modelo_{nombre}_documentos.pkl\"\n",
        "    modelo = joblib.load(modelo_path)\n",
        "\n",
        "    y_pred = modelo.predict(results_df[\"text\"])\n",
        "    col_name = f\"pred_{nombre.replace(' ', '_')}\"\n",
        "    results_df[col_name] = y_pred"
      ],
      "metadata": {
        "id": "0W2sE_KMObsZ"
      },
      "execution_count": null,
      "outputs": []
    },
    {
      "cell_type": "code",
      "source": [
        "from sklearn.metrics import classification_report, confusion_matrix, accuracy_score, precision_score, recall_score, f1_score\n",
        "import seaborn as sns\n",
        "import matplotlib.pyplot as plt\n",
        "\n",
        "# Lista con los nombres de tus modelos y sus columnas de predicción\n",
        "nombres_modelos = [\n",
        "    \"logistic regression\",\n",
        "    \"linear svm\",\n",
        "    \"random forest\",\n",
        "    \"multinomial nb\"\n",
        "]\n",
        "\n",
        "for nombre in nombres_modelos:\n",
        "    col_pred = f\"pred_{nombre.replace(' ', '_')}\"\n",
        "    print(f\"\\n=== Resultados para: {nombre.upper()} ===\")\n",
        "\n",
        "    # Métricas\n",
        "    y_true = results_df[\"categoria_real\"]\n",
        "    y_pred = results_df[col_pred]\n",
        "\n",
        "    acc = accuracy_score(y_true, y_pred)\n",
        "    prec = precision_score(y_true, y_pred, average=\"weighted\", zero_division=0)\n",
        "    rec = recall_score(y_true, y_pred, average=\"weighted\", zero_division=0)\n",
        "    f1 = f1_score(y_true, y_pred, average=\"weighted\", zero_division=0)\n",
        "\n",
        "    print(f\"Accuracy :  {acc:.4f}\")\n",
        "    print(f\"Precision:  {prec:.4f}\")\n",
        "    print(f\"Recall   :  {rec:.4f}\")\n",
        "    print(f\"F1 Score :  {f1:.4f}\")\n",
        "\n",
        "    # Reporte detallado\n",
        "    print(\"\\nReporte de Clasificación:\")\n",
        "    print(classification_report(y_true, y_pred))\n",
        "\n",
        "    # Matriz de Confusión\n",
        "    plt.figure(figsize=(6, 4))\n",
        "    sns.heatmap(\n",
        "        confusion_matrix(y_true, y_pred),\n",
        "        annot=True,\n",
        "        fmt=\"d\",\n",
        "        xticklabels=sorted(results_df[\"categoria_real\"].unique()),\n",
        "        yticklabels=sorted(results_df[\"categoria_real\"].unique()),\n",
        "        cmap=\"Blues\"\n",
        "    )\n",
        "    plt.title(f\"Matriz de Confusión - {nombre}\")\n",
        "    plt.xlabel(\"Predicción\")\n",
        "    plt.ylabel(\"Real\")\n",
        "    plt.tight_layout()\n",
        "    plt.show()\n"
      ],
      "metadata": {
        "colab": {
          "base_uri": "https://localhost:8080/",
          "height": 1000
        },
        "id": "AJTT9hRhZOG_",
        "outputId": "e266e686-0559-42f9-9032-a4d37497cd65"
      },
      "execution_count": null,
      "outputs": [
        {
          "output_type": "stream",
          "name": "stdout",
          "text": [
            "\n",
            "=== Resultados para: LOGISTIC REGRESSION ===\n",
            "Accuracy :  0.7949\n",
            "Precision:  0.8688\n",
            "Recall   :  0.7949\n",
            "F1 Score :  0.7698\n",
            "\n",
            "Reporte de Clasificación:\n",
            "              precision    recall  f1-score   support\n",
            "\n",
            "certificados       0.59      1.00      0.74        10\n",
            "   contratos       0.89      0.89      0.89         9\n",
            "    facturas       1.00      1.00      1.00        10\n",
            "resoluciones       1.00      0.30      0.46        10\n",
            "\n",
            "    accuracy                           0.79        39\n",
            "   macro avg       0.87      0.80      0.77        39\n",
            "weighted avg       0.87      0.79      0.77        39\n",
            "\n"
          ]
        },
        {
          "output_type": "display_data",
          "data": {
            "text/plain": [
              "<Figure size 600x400 with 2 Axes>"
            ],
            "image/png": "[encoded data removed]"
          },
          "metadata": {}
        },
        {
          "output_type": "stream",
          "name": "stdout",
          "text": [
            "\n",
            "=== Resultados para: LINEAR SVM ===\n",
            "Accuracy :  0.8205\n",
            "Precision:  0.8624\n",
            "Recall   :  0.8205\n",
            "F1 Score :  0.8103\n",
            "\n",
            "Reporte de Clasificación:\n",
            "              precision    recall  f1-score   support\n",
            "\n",
            "certificados       0.67      1.00      0.80        10\n",
            "   contratos       0.88      0.78      0.82         9\n",
            "    facturas       0.91      1.00      0.95        10\n",
            "resoluciones       1.00      0.50      0.67        10\n",
            "\n",
            "    accuracy                           0.82        39\n",
            "   macro avg       0.86      0.82      0.81        39\n",
            "weighted avg       0.86      0.82      0.81        39\n",
            "\n"
          ]
        },
        {
          "output_type": "display_data",
          "data": {
            "text/plain": [
              "<Figure size 600x400 with 2 Axes>"
            ],
            "image/png": "[encoded data removed]"
          },
          "metadata": {}
        },
        {
          "output_type": "stream",
          "name": "stdout",
          "text": [
            "\n",
            "=== Resultados para: RANDOM FOREST ===\n",
            "Accuracy :  0.9231\n",
            "Precision:  0.9301\n",
            "Recall   :  0.9231\n",
            "F1 Score :  0.9241\n",
            "\n",
            "Reporte de Clasificación:\n",
            "              precision    recall  f1-score   support\n",
            "\n",
            "certificados       0.82      0.90      0.86        10\n",
            "   contratos       1.00      0.89      0.94         9\n",
            "    facturas       0.91      1.00      0.95        10\n",
            "resoluciones       1.00      0.90      0.95        10\n",
            "\n",
            "    accuracy                           0.92        39\n",
            "   macro avg       0.93      0.92      0.92        39\n",
            "weighted avg       0.93      0.92      0.92        39\n",
            "\n"
          ]
        },
        {
          "output_type": "display_data",
          "data": {
            "text/plain": [
              "<Figure size 600x400 with 2 Axes>"
            ],
            "image/png": "[encoded data removed]"
          },
          "metadata": {}
        },
        {
          "output_type": "stream",
          "name": "stdout",
          "text": [
            "\n",
            "=== Resultados para: MULTINOMIAL NB ===\n",
            "Accuracy :  0.9487\n",
            "Precision:  0.9573\n",
            "Recall   :  0.9487\n",
            "F1 Score :  0.9496\n",
            "\n",
            "Reporte de Clasificación:\n",
            "              precision    recall  f1-score   support\n",
            "\n",
            "certificados       1.00      1.00      1.00        10\n",
            "   contratos       1.00      0.89      0.94         9\n",
            "    facturas       1.00      0.90      0.95        10\n",
            "resoluciones       0.83      1.00      0.91        10\n",
            "\n",
            "    accuracy                           0.95        39\n",
            "   macro avg       0.96      0.95      0.95        39\n",
            "weighted avg       0.96      0.95      0.95        39\n",
            "\n"
          ]
        },
        {
          "output_type": "display_data",
          "data": {
            "text/plain": [
              "<Figure size 600x400 with 2 Axes>"
            ],
            "image/png": "[encoded data removed]"
          },
          "metadata": {}
        }
      ]
    },
    {
      "cell_type": "code",
      "source": [
        "results_df.to_csv(\"resultados.csv\", index=False)"
      ],
      "metadata": {
        "id": "Otz95vDhUxpn"
      },
      "execution_count": null,
      "outputs": []
    }
  ]
}