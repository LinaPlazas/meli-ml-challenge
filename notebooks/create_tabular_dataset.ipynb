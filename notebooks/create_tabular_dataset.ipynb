{
  "nbformat": 4,
  "nbformat_minor": 0,
  "metadata": {
    "colab": {
      "provenance": []
    },
    "kernelspec": {
      "name": "python3",
      "display_name": "Python 3"
    },
    "language_info": {
      "name": "python"
    }
  },
  "cells": [
    {
      "cell_type": "code",
      "source": [
        "!pip install boto3 aiohttp asyncio"
      ],
      "metadata": {
        "id": "BDWF478oTzVo"
      },
      "execution_count": null,
      "outputs": []
    },
    {
      "cell_type": "markdown",
      "source": [
        "#**Creación del dataset Tabular**"
      ],
      "metadata": {
        "id": "BHClMmpfrk6n"
      }
    },
    {
      "cell_type": "code",
      "source": [
        "import asyncio\n",
        "from concurrent.futures import ThreadPoolExecutor\n",
        "import pandas as pd\n",
        "import time\n",
        "from getpass import getpass\n",
        "import asyncio\n",
        "import aiohttp\n",
        "import boto3\n",
        "import time\n",
        "from concurrent.futures import ThreadPoolExecutor"
      ],
      "metadata": {
        "id": "EK6K2aPJrObN"
      },
      "execution_count": 3,
      "outputs": []
    },
    {
      "cell_type": "markdown",
      "source": [
        "##Iniciar sesión con credenciales en aws"
      ],
      "metadata": {
        "id": "MMkzgBLrsyaP"
      }
    },
    {
      "cell_type": "code",
      "source": [
        "aws_access_key_id = getpass(\"Access Key: \")\n",
        "aws_secret_access_key = getpass(\"Secret Key: \")\n",
        "\n",
        "session = boto3.Session(\n",
        "    aws_access_key_id=aws_access_key_id,\n",
        "    aws_secret_access_key=aws_secret_access_key,\n",
        "    region_name=\"us-east-1\"\n",
        ")\n",
        "s3 = session.client(\"s3\")\n",
        "textract = session.client(\"textract\")"
      ],
      "metadata": {
        "colab": {
          "base_uri": "https://localhost:8080/"
        },
        "id": "IPhIQJCBsnaJ",
        "outputId": "53d453e0-69c6-43a4-b19c-1108100ebf07"
      },
      "execution_count": 7,
      "outputs": [
        {
          "name": "stdout",
          "output_type": "stream",
          "text": [
            "Access Key: ··········\n",
            "Secret Key: ··········\n"
          ]
        }
      ]
    },
    {
      "cell_type": "markdown",
      "source": [
        "## Leer dataset de pdfs en el bucket de S3"
      ],
      "metadata": {
        "id": "3jv_Vr6rsFgW"
      }
    },
    {
      "cell_type": "code",
      "source": [
        "def list_pdf_files(bucket_name):\n",
        "    paginator = s3.get_paginator('list_objects_v2')\n",
        "    operation_parameters = {\n",
        "        'Bucket': bucket_name,\n",
        "        'Prefix': 'train/'\n",
        "    }\n",
        "    page_iterator = paginator.paginate(**operation_parameters)\n",
        "\n",
        "    pdf_files = []\n",
        "    for page in page_iterator:\n",
        "        for obj in page.get('Contents', []):\n",
        "            key = obj['Key']\n",
        "            if key.endswith('.pdf'):\n",
        "                label = key.split('/')[0]\n",
        "                pdf_files.append((key, label))\n",
        "    return pdf_files\n",
        "\n",
        "bucket_name = \"meli-challege-bucket\"\n",
        "pdf_files = list_pdf_files(bucket_name)\n",
        "print(\"Cantidad de documentos encontrados:\", len(pdf_files))"
      ],
      "metadata": {
        "colab": {
          "base_uri": "https://localhost:8080/"
        },
        "id": "pNMq1kiWYCKL",
        "outputId": "5507f665-c33c-4733-de9f-12f064b54ac3"
      },
      "execution_count": 8,
      "outputs": [
        {
          "output_type": "stream",
          "name": "stdout",
          "text": [
            "Cantidad de documentos encontrados: 185\n"
          ]
        }
      ]
    },
    {
      "cell_type": "markdown",
      "source": [
        "## Inicia el análisis de texto de un PDF en S3 usando Textract y devuelve el job_id."
      ],
      "metadata": {
        "id": "_2z-7cIhx6in"
      }
    },
    {
      "cell_type": "code",
      "source": [
        "async def load_pdf_and_start_textract(file_key: str, label: str, bucket_name: str):\n",
        "    s3 = session.client('s3')\n",
        "    response = s3.get_object(Bucket=bucket_name, Key=file_key)\n",
        "    file_bytes = response['Body'].read()\n",
        "\n",
        "    loop = asyncio.get_event_loop()\n",
        "    job_id = await loop.run_in_executor(None, lambda: textract.start_document_text_detection(\n",
        "        DocumentLocation={'S3Object': {'Bucket': bucket_name, 'Name': file_key}}\n",
        "    )['JobId'])\n",
        "\n",
        "    return {\"job_id\": job_id, \"file_key\": file_key, \"label\": label}"
      ],
      "metadata": {
        "id": "UOD4JWoodID-"
      },
      "execution_count": 8,
      "outputs": []
    },
    {
      "cell_type": "markdown",
      "source": [
        "##Espera el resultado del job de Textract y devuelve el texto extraído"
      ],
      "metadata": {
        "id": "zAjNNaxzyV1f"
      }
    },
    {
      "cell_type": "code",
      "source": [
        "def get_textract_result(job_id):\n",
        "    while True:\n",
        "        response = textract.get_document_text_detection(JobId=job_id)\n",
        "        status = response['JobStatus']\n",
        "        if status == 'SUCCEEDED':\n",
        "            blocks = response['Blocks']\n",
        "            lines = [b[\"Text\"] for b in blocks if b[\"BlockType\"] == \"LINE\"]\n",
        "            return \" \".join(lines)\n",
        "        elif status == 'FAILED':\n",
        "            return \"\"\n",
        "        time.sleep(5)"
      ],
      "metadata": {
        "id": "URHihVZkdOVO"
      },
      "execution_count": 13,
      "outputs": []
    },
    {
      "cell_type": "markdown",
      "source": [
        "##Procesa varios pdfs: lanza los jobs y obtiene el texto de cada uno."
      ],
      "metadata": {
        "id": "pEcI9lIWyqEg"
      }
    },
    {
      "cell_type": "code",
      "source": [
        "async def process_all_files(file_list, bucket_name):\n",
        "    loop = asyncio.get_event_loop()\n",
        "    with ThreadPoolExecutor(max_workers=5) as executor:\n",
        "        futures = [\n",
        "            load_pdf_and_start_textract(file_key, label, bucket_name)\n",
        "            for file_key, label in file_list\n",
        "        ]\n",
        "        jobs = await asyncio.gather(*futures)\n",
        "\n",
        "        results = []\n",
        "        for job in jobs:\n",
        "            text = await loop.run_in_executor(executor, get_textract_result, job['job_id'])\n",
        "            results.append({\n",
        "                \"filename\": job[\"file_key\"],\n",
        "                \"label\": job[\"label\"],\n",
        "                \"text\": text\n",
        "            })\n",
        "        return results"
      ],
      "metadata": {
        "id": "3EMWYDcBdPU1"
      },
      "execution_count": 14,
      "outputs": []
    },
    {
      "cell_type": "markdown",
      "source": [
        "## Guardar resultados en un archivo csv"
      ],
      "metadata": {
        "id": "PvreFQwjxBaK"
      }
    },
    {
      "cell_type": "code",
      "source": [
        "def save_results_to_csv(results, filename=\"dataset.csv\"):\n",
        "    df = pd.DataFrame(results)\n",
        "    df.to_csv(filename, index=False)\n",
        "    print(\"CSV guardado como\", filename)\n"
      ],
      "metadata": {
        "id": "WSfecaUZdWC4"
      },
      "execution_count": 15,
      "outputs": []
    },
    {
      "cell_type": "code",
      "source": [
        "results = await process_all_files(pdf_files, bucket_name)"
      ],
      "metadata": {
        "id": "NTuQPYvOwHvz"
      },
      "execution_count": null,
      "outputs": []
    },
    {
      "cell_type": "code",
      "source": [
        "save_results_to_csv(results)"
      ],
      "metadata": {
        "id": "XsRBaviadb9w"
      },
      "execution_count": null,
      "outputs": []
    }
  ]
}